{
 "cells": [
  {
   "cell_type": "markdown",
   "metadata": {
    "slideshow": {
     "slide_type": "slide"
    }
   },
   "source": [
    "# PyTorch Tutorial Prerequisites\n",
    "\n",
    "- [Python](https://www.python.org) 3.11 with the package manager [pip](https://pip.pypa.io/en/stable/installation/) or\n",
    "- a conda installation, e.g. [Anaconda](https://www.anaconda.com/products/distribution)\n",
    "\n",
    "> Note that other versions of Python might work as well, but we make sure that this Jupyter Notebook runs with Python 3.11!\n"
   ]
  },
  {
   "cell_type": "markdown",
   "metadata": {
    "slideshow": {
     "slide_type": "subslide"
    }
   },
   "source": [
    "First, you may want to set up a new Python environment for each project (recommended!) in which you are going to install all the packages.\\\n",
    "Conda has this feature built-in, for pip you can install a package which will handle this for you with ```pip install virtualenv``` (see [documentation](https://virtualenv.pypa.io/en/latest/installation.html)).\n",
    "\n",
    ">If you installed pip using your OS package manager you might have to call `pip3` instead of `pip`.\\\n",
    "You may always call pip from python as a module: `python -m pip` or `python3 -m pip` depending on how the correct binary for Python is called on your system (in a virtual environment, `python` is sufficient poiting to the Python binary used in this environment).\n",
    "\n",
    "Then, create a new environment with ```conda create -n <env_name> python=3.11``` (conda) or ```python -m virtualenv <path_to_env> --python python3.11``` (pip) - note that this needs Python 3.11 installed for pip or installs Python 3.11 in case of conda since this tutorial uses Python 3.11!\\\n",
    "Afterwards activate the environment with ```conda activate <env_name>``` (conda) or ```source <path_to_env>/bin/activate``` (pip).\n",
    "\n",
    "See also here for documentation: [conda](https://docs.conda.io/projects/conda/en/latest/commands/create.html) / [virtualenv](https://virtualenv.pypa.io/en/latest/cli_interface.html)\n",
    "\n",
    "For running these Jupyter Notebooks, make sure to install Jupyter Notebook with pip (```pip install notebook```) or with conda (```conda install -c conda-forge notebook```).\\\n",
    "See the [Jupyter Notebook documentation](https://jupyter.org/install#jupyter-notebook) for more information.\n",
    "\n",
    "You may then run Jupyter Notebook in the current directory with ```jupyter notebook```.\n",
    "\n",
    "Below we often call `pip` or `conda` using `%pip` and `%conda`, repectively, from a cell.\\\n",
    "These are magic commands for Jupyter Notebook, you can read more about them [here](https://ipython.readthedocs.io/en/stable/interactive/magics.html).\\\n",
    "You could also run these commands (without `%`) in a shell (with the environment activated).\n",
    "\n",
    "> Note that even in a conda environment, you can still use pip to install packages!"
   ]
  },
  {
   "cell_type": "markdown",
   "metadata": {
    "slideshow": {
     "slide_type": "slide"
    }
   },
   "source": [
    "To be able to use a progress bar within Jupyter Notebooks, we have to install ipywidgets and restart the kernel afterward:"
   ]
  },
  {
   "cell_type": "code",
   "execution_count": null,
   "metadata": {
    "slideshow": {
     "slide_type": "-"
    }
   },
   "outputs": [],
   "source": [
    "%pip install ipywidgets # install using pip\n",
    "# %conda install -c conda-forge ipywidgets # or install using conda"
   ]
  },
  {
   "cell_type": "markdown",
   "metadata": {
    "slideshow": {
     "slide_type": "subslide"
    }
   },
   "source": [
    "**Make sure to restart the Jupyter kernel!**"
   ]
  },
  {
   "cell_type": "markdown",
   "metadata": {
    "slideshow": {
     "slide_type": "slide"
    }
   },
   "source": [
    "# Getting PyTorch\n",
    "\n",
    "First [download](https://pytorch.org/get-started/locally/) and install the correct PyTorch package.\n",
    "\n",
    "> Note that the versions installed below are needed for the full tutorial to work.\\\n",
    "> If you do not need to execute the examples, then feel free to experiment with PyTorch 2.x!\\\n",
    "> Refer to [the offical website](https://pytorch.org/get-started/pytorch-2.0/) and especially [this blog post](https://pytorch.org/blog/Accelerating-Hugging-Face-and-TIMM-models/) to get started with PyTorch 2.\n",
    "\n",
    "With pip:"
   ]
  },
  {
   "cell_type": "code",
   "execution_count": null,
   "metadata": {
    "slideshow": {
     "slide_type": "fragment"
    }
   },
   "outputs": [],
   "source": [
    "# Linux and Windows\n",
    "## CUDA 12.4\n",
    "%pip install torch --index-url https://download.pytorch.org/whl/cu124\n",
    "\n",
    "## CPU only\n",
    "# %pip install torch --index-url https://download.pytorch.org/whl/cpu\n",
    "\n",
    "# OSX (CPU only)\n",
    "# %pip install torch"
   ]
  },
  {
   "cell_type": "markdown",
   "metadata": {
    "slideshow": {
     "slide_type": "slide"
    }
   },
   "source": [
    "# PyTorch Basics\n",
    "\n",
    "Next we need to import the PyTorch library:"
   ]
  },
  {
   "cell_type": "code",
   "execution_count": null,
   "metadata": {
    "slideshow": {
     "slide_type": "subslide"
    }
   },
   "outputs": [],
   "source": [
    "import torch"
   ]
  },
  {
   "cell_type": "markdown",
   "metadata": {},
   "source": [
    "Let's see which version we have installed:"
   ]
  },
  {
   "cell_type": "code",
   "execution_count": null,
   "metadata": {},
   "outputs": [],
   "source": [
    "torch.__version__"
   ]
  },
  {
   "cell_type": "markdown",
   "metadata": {},
   "source": [
    "and whether CUDA support is enabled:"
   ]
  },
  {
   "cell_type": "code",
   "execution_count": null,
   "metadata": {},
   "outputs": [],
   "source": [
    "torch.cuda.is_available()"
   ]
  },
  {
   "cell_type": "markdown",
   "metadata": {
    "slideshow": {
     "slide_type": "slide"
    }
   },
   "source": [
    "## What PyTorch helps you to do:\n",
    "1. Create tensors (e.g. vectors, matrices)\n",
    "2. Manipulate tensors (e.g. adding them)\n",
    "    * IMPORTANT: record all differentiable manipulations in a computational graph\n",
    "3. Calculate gradients based on the recorded computational graph\n",
    "4. Build neural networks from building blocks (using 1 and 2)\n",
    "5. Train neural networks (using 2 and 3 and offering a range of gradient-based optimization algorithms and loss functions)\n",
    "\n",
    "As always, the [documentation](https://pytorch.org/docs/stable/index.html) is a helpful resource."
   ]
  },
  {
   "cell_type": "markdown",
   "metadata": {},
   "source": [
    "Let's have a closer look at all those points!"
   ]
  },
  {
   "cell_type": "markdown",
   "metadata": {
    "slideshow": {
     "slide_type": "slide"
    }
   },
   "source": [
    "## Tensors\n",
    "### Tensor creation\n",
    "\n",
    "Tensors are Pytorch's data structure for representing vectors, matrices and higher dimensional tensors.\n",
    "Tensors contain homogeneous data of fixed size.\n",
    "\n",
    "Tensors can be initialized from Python objects, e.g., a list of lists of integers, making up a $n\\times m$ dimensional array.\n",
    "You just call `torch.tensor(data)` where `data` is the Python object.\n",
    "The data type is automatically inferred, but you can override this behavior by setting the `dtype` argument when calling `torch.tensor`, where `dtype` is one of the PyTorch dtypes as listed at https://pytorch.org/docs/stable/tensors.html#data-types.\n",
    "\n",
    "You can also specify the device where the tensor lives, e.g., on CPU (default) or GPU.\n",
    "For this, you can pass the `device` argument to the tensor creation functions, which takes an object of type `torch.device` ([documentation](https://pytorch.org/docs/stable/tensor_attributes.html#torch-device)).\n",
    "These can be created by calling `torch.device` with a device type, e.g., `'cpu'` or `'cuda'` (for GPU), and an ordinal specifying the the device id."
   ]
  },
  {
   "cell_type": "markdown",
   "metadata": {},
   "source": [
    "#### Task: Create tensors\n",
    "\n",
    "* Create PyTorch tensors from Python lists and convert them to different PyTorch dtypes.\n",
    "* Create PyTorch tensors using `torch.rand`, `torch.zeros` and `torch.ones`.\n",
    "* Create PyTorch tensors from existing tensors\n",
    "* Inspect a tensor's shape, datatype and device\n",
    "\n",
    "> Hint: PyTorch tensors have a nice `str` representation and can be printed on the console."
   ]
  },
  {
   "cell_type": "code",
   "execution_count": null,
   "metadata": {},
   "outputs": [],
   "source": [
    "a = torch.tensor([[2,1],[2,4],[0,1]], dtype=torch.float)\n",
    "print(a)\n",
    "b = torch.ones((3,2,))\n",
    "print(b)\n",
    "c = a.add(b)\n",
    "print(c)"
   ]
  },
  {
   "cell_type": "markdown",
   "metadata": {},
   "source": [
    "### Tensor attributes\n",
    "\n",
    "Attributes allow inspecting some properties of the tensors, e.g., `shape`, `dtype` and `device`.\n",
    "They can be valuable when creating neural networks."
   ]
  },
  {
   "cell_type": "markdown",
   "metadata": {},
   "source": [
    "#### Task: Tensor attributes\n",
    "\n",
    "* Print the shape of a tensor\n",
    "* Print the dtype of a tensor\n",
    "* Print the device of a tensor"
   ]
  },
  {
   "cell_type": "code",
   "execution_count": null,
   "metadata": {},
   "outputs": [],
   "source": []
  },
  {
   "cell_type": "markdown",
   "metadata": {},
   "source": [
    "### Tensor operations\n",
    "\n",
    "There are several operations that can be applied to tensors, including arithmetic, linear algebra, sampling, matrix manipulation, logical, conversion, moving device and more.\n",
    "For example, two tensors can be added using `+` or `torch.add`, concatenated using `torch.cat` or moved to a new device using `torch.to`.\n",
    "Conversion to float is done using `Tensor.float`, e.g., `a.float()`.\n",
    "\n",
    "> Note that most tensor operations from `torch` can directly be called on a tensor: `torch.add(a, b)` is equivalent to `a.add(b)`."
   ]
  },
  {
   "cell_type": "markdown",
   "metadata": {},
   "source": [
    "#### Task: Tensor operations\n",
    "\n",
    "TODO: Add tasks"
   ]
  },
  {
   "cell_type": "code",
   "execution_count": null,
   "metadata": {
    "slideshow": {
     "slide_type": "fragment"
    }
   },
   "outputs": [],
   "source": [
    "a = torch.zeros(3,2) # this will create a 3 x 2 float matrix of zeroes\n",
    "print(a)\n",
    "# print the data type of the elements\n",
    "print(a.dtype)\n",
    "# print the size of the matrix\n",
    "print(a.size())"
   ]
  },
  {
   "cell_type": "code",
   "execution_count": null,
   "metadata": {
    "slideshow": {
     "slide_type": "fragment"
    }
   },
   "outputs": [],
   "source": [
    "b = torch.ones(3,2) # this will create a 3 x 2 float matrix of ones\n",
    "print(b)"
   ]
  },
  {
   "cell_type": "markdown",
   "metadata": {
    "slideshow": {
     "slide_type": "subslide"
    }
   },
   "source": [
    "Random initialization is also often handy, e.g. to initialize network weights before training:"
   ]
  },
  {
   "cell_type": "code",
   "execution_count": null,
   "metadata": {},
   "outputs": [],
   "source": [
    "r = torch.rand(3,2) # create a 3 x 2 float matrix of uniform random numbers in [0,1)\n",
    "print(r)"
   ]
  },
  {
   "cell_type": "markdown",
   "metadata": {
    "slideshow": {
     "slide_type": "slide"
    }
   },
   "source": [
    "### Manipulate tensors\n",
    "\n",
    "You can use all basic operations to modify tensors:"
   ]
  },
  {
   "cell_type": "code",
   "execution_count": null,
   "metadata": {
    "slideshow": {
     "slide_type": "fragment"
    }
   },
   "outputs": [],
   "source": [
    "print(\"a\", a)\n",
    "print(\"b\", b)\n",
    "print(\"c\", c)"
   ]
  },
  {
   "cell_type": "code",
   "execution_count": null,
   "metadata": {
    "slideshow": {
     "slide_type": "fragment"
    }
   },
   "outputs": [],
   "source": [
    "ab = a + b # element-wise addition, returns a new tensor\n",
    "print(ab)"
   ]
  },
  {
   "cell_type": "code",
   "execution_count": null,
   "metadata": {
    "slideshow": {
     "slide_type": "fragment"
    }
   },
   "outputs": [],
   "source": [
    "bc = b * c # element-wise multiplication, returns a new tensor\n",
    "print(bc)"
   ]
  },
  {
   "cell_type": "code",
   "execution_count": null,
   "metadata": {
    "slideshow": {
     "slide_type": "fragment"
    }
   },
   "outputs": [],
   "source": [
    "bc = b/c  # element-wise division, returns a new tensor\n",
    "print(bc)"
   ]
  },
  {
   "cell_type": "code",
   "execution_count": null,
   "metadata": {
    "scrolled": true,
    "slideshow": {
     "slide_type": "subslide"
    }
   },
   "outputs": [],
   "source": [
    "abc = bc + ab # be careful\n",
    "print(abc)"
   ]
  },
  {
   "cell_type": "markdown",
   "metadata": {
    "slideshow": {
     "slide_type": "fragment"
    }
   },
   "source": [
    "There are also specialized operations (you can find them in the documentation), e.g."
   ]
  },
  {
   "cell_type": "code",
   "execution_count": null,
   "metadata": {},
   "outputs": [],
   "source": [
    "b_log = b.log() # element-wise natural logarithm\n",
    "print(b_log)\n",
    "\n",
    "b_exp = b.exp()  # element-wise exponential\n",
    "print(b_exp)"
   ]
  },
  {
   "cell_type": "markdown",
   "metadata": {
    "slideshow": {
     "slide_type": "subslide"
    }
   },
   "source": [
    "To do a \"real\" matrix multiplication, you have to call a special function:"
   ]
  },
  {
   "cell_type": "code",
   "execution_count": null,
   "metadata": {},
   "outputs": [],
   "source": [
    "M = torch.tensor([[1.,2.], [3., 4]]) # 2x2 matrix\n",
    "v = torch.tensor([[0.], [1.]]) # 2x1 vector\n",
    "Mv = torch.matmul(M, v) # 2x2 * 2x1 => 2x1\n",
    "print(\"M*v =\", Mv)\n",
    "\n",
    "v2 = torch.tensor([0., 1.]) # vector with 2 elements\n",
    "Mv2 = torch.matmul(M,v2)\n",
    "print(\"M*v2 =\", Mv2)\n",
    "\n",
    "# dot product (requires flat inputs)\n",
    "print(\"v2^T*v2 =\", v2.dot(v2))"
   ]
  },
  {
   "cell_type": "markdown",
   "metadata": {
    "slideshow": {
     "slide_type": "fragment"
    }
   },
   "source": [
    "You can squeeze dimensions of size 1:"
   ]
  },
  {
   "cell_type": "code",
   "execution_count": null,
   "metadata": {},
   "outputs": [],
   "source": [
    "print(\"size of v:\", v.size())\n",
    "print(\"shape of v:\", v.shape)\n",
    "print(\"size of v squeezed:\", v.squeeze().size())"
   ]
  },
  {
   "cell_type": "markdown",
   "metadata": {
    "slideshow": {
     "slide_type": "subslide"
    }
   },
   "source": [
    "You can also compare tensors:"
   ]
  },
  {
   "cell_type": "code",
   "execution_count": null,
   "metadata": {},
   "outputs": [],
   "source": [
    "print('a: ', a)\n",
    "print('b: ', b)\n",
    "a[0,0] = 1.0 # set element at 0,0 (first dimension, second dimension)\n",
    "a[1,0] = 1.0 # set element at 1,0\n",
    "print(\"a==b:\", a == b) # element-wise comparison -> yields matrix\n",
    "print(\"number of equal entries:\", (a == b).sum()) # convenient way to check how many entries are equal\n",
    "print(\"number of equal entries:\", (a == b).sum().item()) # extract scalar from tensor (works only with tensors of size 1!)\n",
    "print(a.equal(b)) # matrix-wise comparison (i.e. all elements have to be equal)"
   ]
  }
 ],
 "metadata": {
  "celltoolbar": "Slideshow",
  "kernelspec": {
   "display_name": "Python 3 (ipykernel)",
   "language": "python",
   "name": "python3"
  },
  "language_info": {
   "codemirror_mode": {
    "name": "ipython",
    "version": 3
   },
   "file_extension": ".py",
   "mimetype": "text/x-python",
   "name": "python",
   "nbconvert_exporter": "python",
   "pygments_lexer": "ipython3",
   "version": "3.11.9"
  },
  "vscode": {
   "interpreter": {
    "hash": "44d183e2ed7f9e41e8dce83aa5d5fcdc7ada6d3c3409baab8ecd401fc159e44c"
   }
  }
 },
 "nbformat": 4,
 "nbformat_minor": 4
}
