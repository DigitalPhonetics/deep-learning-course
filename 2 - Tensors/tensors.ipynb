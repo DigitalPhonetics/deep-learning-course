{
 "cells": [
  {
   "cell_type": "code",
   "execution_count": null,
   "metadata": {},
   "outputs": [],
   "source": [
    "import torch"
   ]
  },
  {
   "cell_type": "markdown",
   "metadata": {
    "slideshow": {
     "slide_type": "slide"
    }
   },
   "source": [
    "## Tensors\n",
    "### Tensor creation\n",
    "\n",
    "Tensors are Pytorch's data structure for representing vectors, matrices and higher dimensional tensors.\n",
    "Tensors contain homogeneous data of fixed size.\n",
    "\n",
    "Tensors can be initialized from Python objects, e.g., a list of lists of integers, making up a $n\\times m$ dimensional array.\n",
    "You just call `torch.tensor(data)` where `data` is the Python object.\n",
    "The data type is automatically inferred, but you can override this behavior by setting the `dtype` argument when calling `torch.tensor`, where `dtype` is one of the PyTorch dtypes as listed at https://pytorch.org/docs/stable/tensors.html#data-types.\n",
    "\n",
    "TODO: Tensors from functions with random or constant values \\\n",
    "TODO: Tensors from other tensors\n",
    "\n",
    "You can also specify the device where the tensor lives, e.g., on CPU (default) or GPU.\n",
    "For this, you can pass the `device` argument to the tensor creation functions, which takes an object of type `torch.device` ([documentation](https://pytorch.org/docs/stable/tensor_attributes.html#torch-device)).\n",
    "These can be created by calling `torch.device` with a device type, e.g., `'cpu'` or `'cuda'` (for GPU), and an ordinal specifying the the device id."
   ]
  },
  {
   "cell_type": "markdown",
   "metadata": {},
   "source": [
    "#### Task: Create tensors\n",
    "\n",
    "* Create PyTorch tensors from Python lists and convert them to different PyTorch dtypes.\n",
    "* Create PyTorch tensors using `torch.rand`, `torch.zeros` and `torch.ones`.\n",
    "* Create PyTorch tensors from existing tensors\n",
    "* Inspect a tensor's shape, datatype and device\n",
    "\n",
    "> Hint: PyTorch tensors have a nice `str` representation and can be printed on the console."
   ]
  },
  {
   "cell_type": "code",
   "execution_count": null,
   "metadata": {},
   "outputs": [],
   "source": [
    "a = torch.tensor([[2,1],[2,4],[0,1]], dtype=torch.float)\n",
    "print(a)\n",
    "b = torch.ones((3,2,))\n",
    "print(b)\n",
    "c = a.add(b)\n",
    "print(c)"
   ]
  },
  {
   "cell_type": "markdown",
   "metadata": {},
   "source": [
    "### Tensor attributes\n",
    "\n",
    "Attributes allow inspecting some properties of the tensors, e.g., `shape`, `dtype` and `device`.\n",
    "They can be valuable when creating neural networks."
   ]
  },
  {
   "cell_type": "markdown",
   "metadata": {},
   "source": [
    "#### Task: Tensor attributes\n",
    "\n",
    "* Print the shape of a tensor\n",
    "* Print the dtype of a tensor\n",
    "* Print the device of a tensor"
   ]
  },
  {
   "cell_type": "code",
   "execution_count": null,
   "metadata": {},
   "outputs": [],
   "source": []
  },
  {
   "cell_type": "markdown",
   "metadata": {},
   "source": [
    "### Tensor operations\n",
    "\n",
    "There are several operations that can be applied to tensors, including arithmetic, linear algebra, sampling, matrix manipulation, logical, conversion, moving device and more.\n",
    "For example, two tensors can be added using `+` or `torch.add`, concatenated using `torch.cat` or moved to a new device using `torch.to`.\n",
    "Conversion to float is done using `Tensor.float`, e.g., `a.float()`.\n",
    "\n",
    "> Note that most tensor operations from `torch` can directly be called on a tensor: `torch.add(a, b)` is equivalent to `a.add(b)`."
   ]
  },
  {
   "cell_type": "markdown",
   "metadata": {},
   "source": [
    "#### Task: Tensor operations\n",
    "\n",
    "TODO: Add tasks"
   ]
  },
  {
   "cell_type": "code",
   "execution_count": null,
   "metadata": {
    "slideshow": {
     "slide_type": "fragment"
    }
   },
   "outputs": [],
   "source": [
    "a = torch.zeros(3,2) # this will create a 3 x 2 float matrix of zeroes\n",
    "print(a)\n",
    "# print the data type of the elements\n",
    "print(a.dtype)\n",
    "# print the size of the matrix\n",
    "print(a.size())"
   ]
  },
  {
   "cell_type": "code",
   "execution_count": null,
   "metadata": {
    "slideshow": {
     "slide_type": "fragment"
    }
   },
   "outputs": [],
   "source": [
    "b = torch.ones(3,2) # this will create a 3 x 2 float matrix of ones\n",
    "print(b)"
   ]
  },
  {
   "cell_type": "markdown",
   "metadata": {
    "slideshow": {
     "slide_type": "subslide"
    }
   },
   "source": [
    "Random initialization is also often handy, e.g. to initialize network weights before training:"
   ]
  },
  {
   "cell_type": "code",
   "execution_count": null,
   "metadata": {},
   "outputs": [],
   "source": [
    "r = torch.rand(3,2) # create a 3 x 2 float matrix of uniform random numbers in [0,1)\n",
    "print(r)"
   ]
  },
  {
   "cell_type": "markdown",
   "metadata": {
    "slideshow": {
     "slide_type": "slide"
    }
   },
   "source": [
    "### Manipulate tensors\n",
    "\n",
    "You can use all basic operations to modify tensors:"
   ]
  },
  {
   "cell_type": "code",
   "execution_count": null,
   "metadata": {
    "slideshow": {
     "slide_type": "fragment"
    }
   },
   "outputs": [],
   "source": [
    "print(\"a\", a)\n",
    "print(\"b\", b)\n",
    "print(\"c\", c)"
   ]
  },
  {
   "cell_type": "code",
   "execution_count": null,
   "metadata": {
    "slideshow": {
     "slide_type": "fragment"
    }
   },
   "outputs": [],
   "source": [
    "ab = a + b # element-wise addition, returns a new tensor\n",
    "print(ab)"
   ]
  },
  {
   "cell_type": "code",
   "execution_count": null,
   "metadata": {
    "slideshow": {
     "slide_type": "fragment"
    }
   },
   "outputs": [],
   "source": [
    "bc = b * c # element-wise multiplication, returns a new tensor\n",
    "print(bc)"
   ]
  },
  {
   "cell_type": "code",
   "execution_count": null,
   "metadata": {
    "slideshow": {
     "slide_type": "fragment"
    }
   },
   "outputs": [],
   "source": [
    "bc = b/c  # element-wise division, returns a new tensor\n",
    "print(bc)"
   ]
  },
  {
   "cell_type": "code",
   "execution_count": null,
   "metadata": {
    "scrolled": true,
    "slideshow": {
     "slide_type": "subslide"
    }
   },
   "outputs": [],
   "source": [
    "abc = bc + ab # be careful\n",
    "print(abc)"
   ]
  },
  {
   "cell_type": "markdown",
   "metadata": {
    "slideshow": {
     "slide_type": "fragment"
    }
   },
   "source": [
    "There are also specialized operations (you can find them in the documentation), e.g."
   ]
  },
  {
   "cell_type": "code",
   "execution_count": null,
   "metadata": {},
   "outputs": [],
   "source": [
    "b_log = b.log() # element-wise natural logarithm\n",
    "print(b_log)\n",
    "\n",
    "b_exp = b.exp()  # element-wise exponential\n",
    "print(b_exp)"
   ]
  },
  {
   "cell_type": "markdown",
   "metadata": {
    "slideshow": {
     "slide_type": "subslide"
    }
   },
   "source": [
    "To do a \"real\" matrix multiplication, you have to call a special function:"
   ]
  },
  {
   "cell_type": "code",
   "execution_count": null,
   "metadata": {},
   "outputs": [],
   "source": [
    "M = torch.tensor([[1.,2.], [3., 4]]) # 2x2 matrix\n",
    "v = torch.tensor([[0.], [1.]]) # 2x1 vector\n",
    "Mv = torch.matmul(M, v) # 2x2 * 2x1 => 2x1\n",
    "print(\"M*v =\", Mv)\n",
    "\n",
    "v2 = torch.tensor([0., 1.]) # vector with 2 elements\n",
    "Mv2 = torch.matmul(M,v2)\n",
    "print(\"M*v2 =\", Mv2)\n",
    "\n",
    "# dot product (requires flat inputs)\n",
    "print(\"v2^T*v2 =\", v2.dot(v2))"
   ]
  },
  {
   "cell_type": "markdown",
   "metadata": {
    "slideshow": {
     "slide_type": "fragment"
    }
   },
   "source": [
    "You can squeeze dimensions of size 1:"
   ]
  },
  {
   "cell_type": "code",
   "execution_count": null,
   "metadata": {},
   "outputs": [],
   "source": [
    "print(\"size of v:\", v.size())\n",
    "print(\"shape of v:\", v.shape)\n",
    "print(\"size of v squeezed:\", v.squeeze().size())"
   ]
  },
  {
   "cell_type": "markdown",
   "metadata": {
    "slideshow": {
     "slide_type": "subslide"
    }
   },
   "source": [
    "You can also compare tensors:"
   ]
  },
  {
   "cell_type": "code",
   "execution_count": null,
   "metadata": {},
   "outputs": [],
   "source": [
    "print('a: ', a)\n",
    "print('b: ', b)\n",
    "a[0,0] = 1.0 # set element at 0,0 (first dimension, second dimension)\n",
    "a[1,0] = 1.0 # set element at 1,0\n",
    "print(\"a==b:\", a == b) # element-wise comparison -> yields matrix\n",
    "print(\"number of equal entries:\", (a == b).sum()) # convenient way to check how many entries are equal\n",
    "print(\"number of equal entries:\", (a == b).sum().item()) # extract scalar from tensor (works only with tensors of size 1!)\n",
    "print(a.equal(b)) # matrix-wise comparison (i.e. all elements have to be equal)"
   ]
  },
  {
   "cell_type": "markdown",
   "metadata": {},
   "source": [
    "## Exercise: Tensor Creation and Manipulation\n",
    "\n",
    "In this exercise, you will practice creating tensors and performing basic operations on them.\n",
    "\n",
    "1. Create a tensor $A \\in \\mathbb{R}^{3 \\times 3}$ using the `torch.tensor()` function. Initialize it with the following values:\n",
    "\n",
    "$\n",
    "A = \\begin{bmatrix}\n",
    "1 & 2 & 3 \\\\\n",
    "4 & 5 & 6 \\\\\n",
    "7 & 8 & 9 \\\\\n",
    "\\end{bmatrix}\n",
    "$\n",
    "\n",
    "2. Create a tensor $B \\in \\mathbb{R}^{3 \\times 3}$ using the `torch.ones()` function.\n",
    "\n",
    "3. Create a tensor `C` with shape (3, 3) using the `torch.zeros()` function.\n",
    "\n",
    "4. Perform the following operations and print the results:\n",
    "\n",
    "    a) Add tensor `A` and tensor `B` element-wise.\n",
    "\n",
    "    b) Multiply tensor `A` and tensor `C` element-wise.\n",
    "\n",
    "    c) Divide tensor `A` by tensor `B` element-wise.\n",
    "\n",
    "    d) Divide tensor `B` by tensor `C` element-wise.\n",
    "\n",
    "5. Create a tensor `D` with shape (3, 3) using the `torch.eye()` function.\n",
    "\n",
    "6. Perform the following operations and print the results:\n",
    "\n",
    "    a) Multiply tensor `A` and tensor `D` using the `torch.matmul()` function.\n",
    "\n",
    "    b) Calculate the dot product of tensor `A` and tensor `D` using the `torch.dot()` function.\n",
    "\n",
    "7. Create a tensor `E` with shape (2, 2) using the `torch.rand()` function.\n",
    "\n",
    "8. Print the size of tensor `E` and then squeeze its dimensions using the `torch.squeeze()` function. Print the size of the squeezed tensor.\n",
    "\n",
    "9. Compare tensor `A` and tensor `B` element-wise using the `torch.eq()` function. Print the result.\n",
    "\n",
    "Make sure to run each code cell to see the output and verify your solutions.\n"
   ]
  }
 ],
 "metadata": {
  "celltoolbar": "Slideshow",
  "kernelspec": {
   "display_name": "Python 3 (ipykernel)",
   "language": "python",
   "name": "python3"
  },
  "language_info": {
   "codemirror_mode": {
    "name": "ipython",
    "version": 3
   },
   "file_extension": ".py",
   "mimetype": "text/x-python",
   "name": "python",
   "nbconvert_exporter": "python",
   "pygments_lexer": "ipython3",
   "version": "3.11.9"
  },
  "vscode": {
   "interpreter": {
    "hash": "44d183e2ed7f9e41e8dce83aa5d5fcdc7ada6d3c3409baab8ecd401fc159e44c"
   }
  }
 },
 "nbformat": 4,
 "nbformat_minor": 4
}
