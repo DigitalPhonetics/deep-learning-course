{
 "cells": [
  {
   "cell_type": "markdown",
   "metadata": {},
   "source": [
    "# Imports"
   ]
  },
  {
   "cell_type": "markdown",
   "metadata": {},
   "source": [
    "For visualization, we use `matplotlib` in this Notebook:"
   ]
  },
  {
   "cell_type": "code",
   "execution_count": null,
   "metadata": {},
   "outputs": [],
   "source": [
    "%pip install matplotlib # install using pip\n",
    "# %conda install matplotlib # or install using conda"
   ]
  },
  {
   "cell_type": "code",
   "execution_count": 1,
   "metadata": {},
   "outputs": [],
   "source": [
    "import torch\n",
    "from torch.utils.data import Dataset\n",
    "from matplotlib import pyplot as plt"
   ]
  },
  {
   "cell_type": "markdown",
   "metadata": {},
   "source": [
    "# Data Handling"
   ]
  },
  {
   "cell_type": "markdown",
   "metadata": {},
   "source": [
    "We will now look at a 2-class classification problem with a generated toy-dataset.\\\n",
    "The data will be stored inside a PyTorch `Dataset` subclass, which will provide you with some utilities like automatic shuffling and batching for the training loop, if paired with `DataLoader`.\n",
    "\n",
    "The 2 classes are two normal distributions with different means."
   ]
  },
  {
   "cell_type": "code",
   "execution_count": null,
   "metadata": {},
   "outputs": [],
   "source": [
    "\n",
    "\n",
    "class TwoClassDataset(Dataset):\n",
    "    def __init__(self):\n",
    "        # create synthetic dataset\n",
    "        features_a = torch.normal(mean=1., std=1.0, size=(100,2))\n",
    "        labels_a = torch.zeros(100, dtype=torch.long)\n",
    "        features_b = torch.normal(mean=-1.0, std=1.0, size=(100,2))\n",
    "        labels_b = torch.ones(100, dtype=torch.long)\n",
    "\n",
    "        self.data = torch.cat((features_a, features_b), dim=0) # X: 200 x 2 matrix : [x1,x2]\n",
    "        self.labels = torch.cat((labels_a, labels_b), dim=0) # Y: binary vector of length 200: 0: class A, 1: class B\n",
    "    \n",
    "    def __len__(self):\n",
    "        return self.data.size(dim=0)\n",
    "    \n",
    "    def __getitem__(self, index):\n",
    "        return self.data[index], self.labels[index]\n",
    "    \n",
    "dataset = TwoClassDataset()"
   ]
  },
  {
   "cell_type": "markdown",
   "metadata": {},
   "source": [
    "We can plot the 2D dataset to get an idea:"
   ]
  },
  {
   "cell_type": "code",
   "execution_count": null,
   "metadata": {},
   "outputs": [],
   "source": [
    "# plot both classes\n",
    "fig, ax = plt.subplots()\n",
    "scatter = ax.scatter(dataset.data[:,0], dataset.data[:,1], c=dataset.labels, cmap='Paired')\n",
    "legend = ax.legend(*scatter.legend_elements(), title=\"Classes\")\n",
    "ax.add_artist(legend)\n",
    "plt.show()"
   ]
  },
  {
   "cell_type": "code",
   "execution_count": null,
   "metadata": {},
   "outputs": [],
   "source": [
    "print(\"first sample (input, label):\", dataset[0])"
   ]
  }
 ],
 "metadata": {
  "kernelspec": {
   "display_name": "intro-dl-ws-2024-25",
   "language": "python",
   "name": "python3"
  },
  "language_info": {
   "codemirror_mode": {
    "name": "ipython",
    "version": 3
   },
   "file_extension": ".py",
   "mimetype": "text/x-python",
   "name": "python",
   "nbconvert_exporter": "python",
   "pygments_lexer": "ipython3",
   "version": "3.11.9"
  }
 },
 "nbformat": 4,
 "nbformat_minor": 2
}
