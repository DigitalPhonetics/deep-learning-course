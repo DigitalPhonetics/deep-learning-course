{
 "cells": [
  {
   "cell_type": "markdown",
   "metadata": {
    "slideshow": {
     "slide_type": "slide"
    }
   },
   "source": [
    "# PyTorch Tutorial Prerequisites\n",
    "\n",
    "- [Python](https://www.python.org) 3.11 with the package manager [pip](https://pip.pypa.io/en/stable/installation/) or\n",
    "- a conda installation, e.g. [Anaconda](https://www.anaconda.com/products/distribution)\n",
    "\n",
    "> Note that other versions of Python might work as well, but we make sure that this Jupyter Notebook runs with Python 3.11!\n"
   ]
  },
  {
   "cell_type": "markdown",
   "metadata": {
    "slideshow": {
     "slide_type": "subslide"
    }
   },
   "source": [
    "First, you may want to set up a new Python environment for each project (recommended!) in which you are going to install all the packages.\\\n",
    "Conda has this feature built-in, for pip you can install a package which will handle this for you with ```pip install virtualenv``` (see [documentation](https://virtualenv.pypa.io/en/latest/installation.html)).\n",
    "\n",
    ">If you installed pip using your OS package manager you might have to call `pip3` instead of `pip`.\\\n",
    "You may always call pip from python as a module: `python -m pip` or `python3 -m pip` depending on how the correct binary for Python is called on your system (in a virtual environment, `python` is sufficient poiting to the Python binary used in this environment).\n",
    "\n",
    "Then, create a new environment with ```conda create -n <env_name> python=3.11``` (conda) or ```python -m virtualenv <path_to_env> --python python3.11``` (pip) - note that this needs Python 3.11 installed for pip or installs Python 3.11 in case of conda since this tutorial uses Python 3.11!\\\n",
    "Afterwards activate the environment with ```conda activate <env_name>``` (conda) or ```source <path_to_env>/bin/activate``` (pip).\n",
    "\n",
    "See also here for documentation: [conda](https://docs.conda.io/projects/conda/en/latest/commands/create.html) / [virtualenv](https://virtualenv.pypa.io/en/latest/cli_interface.html)\n",
    "\n",
    "For running these Jupyter Notebooks, make sure to install Jupyter Notebook with pip (```pip install notebook```) or with conda (```conda install -c conda-forge notebook```).\\\n",
    "See the [Jupyter Notebook documentation](https://jupyter.org/install#jupyter-notebook) for more information.\n",
    "\n",
    "You may then run Jupyter Notebook in the current directory with ```jupyter notebook```.\n",
    "\n",
    "Below we often call `pip` or `conda` using `%pip` and `%conda`, repectively, from a cell.\\\n",
    "These are magic commands for Jupyter Notebook, you can read more about them [here](https://ipython.readthedocs.io/en/stable/interactive/magics.html).\\\n",
    "You could also run these commands (without `%`) in a shell (with the environment activated).\n",
    "\n",
    "> Note that even in a conda environment, you can still use pip to install packages!"
   ]
  },
  {
   "cell_type": "markdown",
   "metadata": {
    "slideshow": {
     "slide_type": "slide"
    }
   },
   "source": [
    "To be able to use a progress bar within Jupyter Notebooks, we have to install ipywidgets and restart the kernel afterward:"
   ]
  },
  {
   "cell_type": "code",
   "execution_count": null,
   "metadata": {
    "slideshow": {
     "slide_type": "-"
    }
   },
   "outputs": [],
   "source": [
    "%pip install ipywidgets # install using pip\n",
    "# %conda install -c conda-forge ipywidgets # or install using conda"
   ]
  },
  {
   "cell_type": "markdown",
   "metadata": {
    "slideshow": {
     "slide_type": "subslide"
    }
   },
   "source": [
    "**Make sure to restart the Jupyter kernel!**"
   ]
  },
  {
   "cell_type": "markdown",
   "metadata": {
    "slideshow": {
     "slide_type": "slide"
    }
   },
   "source": [
    "# Getting PyTorch\n",
    "\n",
    "First [download](https://pytorch.org/get-started/locally/) and install the correct PyTorch package.\n",
    "\n",
    "> Note that we have tested this notebook to work with torch 2.2 because it is the [last PyTorch version supporting Intel Macs](https://dev-discuss.pytorch.org/t/pytorch-macos-x86-builds-deprecation-starting-january-2024/1690).\\\n",
    "> That being said, the tutorial probably works with newer versions as well, which makes sense if you want to use newer features, but be prepared to solve appearing issues on your own though!\n",
    "\n",
    "With pip:"
   ]
  },
  {
   "cell_type": "code",
   "execution_count": null,
   "metadata": {
    "slideshow": {
     "slide_type": "fragment"
    }
   },
   "outputs": [],
   "source": [
    "# Linux and Windows\n",
    "## CUDA 12.4\n",
    "%pip install torch --index-url https://download.pytorch.org/whl/cu124\n",
    "\n",
    "## CPU only\n",
    "# %pip install torch --index-url https://download.pytorch.org/whl/cpu\n",
    "\n",
    "# OSX (CPU only)\n",
    "# %pip install torch"
   ]
  },
  {
   "cell_type": "markdown",
   "metadata": {
    "slideshow": {
     "slide_type": "slide"
    }
   },
   "source": [
    "Next we need to import the PyTorch library:"
   ]
  },
  {
   "cell_type": "code",
   "execution_count": null,
   "metadata": {
    "slideshow": {
     "slide_type": "subslide"
    }
   },
   "outputs": [],
   "source": [
    "import torch"
   ]
  },
  {
   "cell_type": "markdown",
   "metadata": {},
   "source": [
    "Let's see which version we have installed:"
   ]
  },
  {
   "cell_type": "code",
   "execution_count": null,
   "metadata": {},
   "outputs": [],
   "source": [
    "torch.__version__"
   ]
  },
  {
   "cell_type": "markdown",
   "metadata": {},
   "source": [
    "and whether CUDA support is enabled:"
   ]
  },
  {
   "cell_type": "code",
   "execution_count": null,
   "metadata": {},
   "outputs": [],
   "source": [
    "torch.cuda.is_available()"
   ]
  },
  {
   "cell_type": "markdown",
   "metadata": {
    "slideshow": {
     "slide_type": "slide"
    }
   },
   "source": [
    "## What PyTorch helps you to do:\n",
    "1. Create tensors (e.g. vectors, matrices)\n",
    "2. Manipulate tensors (e.g. adding them)\n",
    "    * IMPORTANT: record all differentiable manipulations in a computational graph\n",
    "3. Calculate gradients based on the recorded computational graph\n",
    "4. Build neural networks from building blocks (using 1 and 2)\n",
    "5. Train neural networks (using 2 and 3 and offering a range of gradient-based optimization algorithms and loss functions)\n",
    "\n",
    "As always, the [documentation](https://pytorch.org/docs/stable/index.html) is a helpful resource."
   ]
  }
 ],
 "metadata": {
  "celltoolbar": "Slideshow",
  "kernelspec": {
   "display_name": "Python 3 (ipykernel)",
   "language": "python",
   "name": "python3"
  },
  "language_info": {
   "codemirror_mode": {
    "name": "ipython",
    "version": 3
   },
   "file_extension": ".py",
   "mimetype": "text/x-python",
   "name": "python",
   "nbconvert_exporter": "python",
   "pygments_lexer": "ipython3",
   "version": "3.11.9"
  },
  "vscode": {
   "interpreter": {
    "hash": "44d183e2ed7f9e41e8dce83aa5d5fcdc7ada6d3c3409baab8ecd401fc159e44c"
   }
  }
 },
 "nbformat": 4,
 "nbformat_minor": 4
}
